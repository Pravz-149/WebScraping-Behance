{
 "cells": [
  {
   "cell_type": "markdown",
   "metadata": {
    "id": "3Kv2xi04qKXe"
   },
   "source": [
    "# **Scraping the Most Appreciated Projects from [BEHANCE](\"www.behance.net\") Website** \n",
    "#### *Using Python,Requests and Selenium - Scraping Top 40 Projects for different creative fields from Behance Website*"
   ]
  },
  {
   "cell_type": "markdown",
   "metadata": {},
   "source": [
    "![](https://i.imgur.com/lvvbRmL.png)"
   ]
  },
  {
   "cell_type": "code",
   "execution_count": null,
   "metadata": {
    "colab": {
     "base_uri": "https://localhost:8080/",
     "height": 123
    },
    "executionInfo": {
     "elapsed": 13578,
     "status": "ok",
     "timestamp": 1655488724099,
     "user": {
      "displayName": "Pravallika Molleti",
      "userId": "03165852627722214263"
     },
     "user_tz": -330
    },
    "id": "-GUoRlTUXY1e",
    "outputId": "6a1f2361-e27a-4567-9b71-05118be7728d"
   },
   "outputs": [
    {
     "data": {
      "application/javascript": [
       "window.require && require([\"base/js/namespace\"],function(Jupyter){Jupyter.notebook.save_checkpoint()})"
      ],
      "text/plain": [
       "<IPython.core.display.Javascript object>"
      ]
     },
     "metadata": {},
     "output_type": "display_data"
    }
   ],
   "source": [
    "!pip install jovian --upgrade --quiet\n",
    "import jovian\n",
    "# Execute this to save new versions of the notebook\n",
    "jovian.commit(project=\"web-scraping-Top-Projects-Behance\")"
   ]
  },
  {
   "cell_type": "markdown",
   "metadata": {
    "id": "24caMCxPoTsK"
   },
   "source": [
    "![](https://i.imgur.com/VIWCXex.jpg)\n",
    "\n",
    "Image credits - [Adobe Stock](https://stock.adobe.com/)\n",
    "\n"
   ]
  },
  {
   "cell_type": "markdown",
   "metadata": {
    "id": "vsWmWAA_-6IQ"
   },
   "source": [
    "\n",
    "# **What is Web Scraping ?**\n",
    "\n",
    "'Web Scraping' is the process of extracting data from the web automatically.web scraping extracts underlying HTML code and the data stored in a database.\n",
    "\n",
    "This extracted data can be saved in a structured format in the the form of a `CSV or JSON file` and also in other formats\n"
   ]
  },
  {
   "cell_type": "markdown",
   "metadata": {
    "id": "gBqMWxZxGwXH"
   },
   "source": [
    "# **Behance Website**\n",
    "\n",
    "'Behance' is a leading social media platform owned by Adobe whose main focus is to showcase and discover creative works (Architecture,Graphic Design, Illustration, Fashion, Photography, Advertising, Fine Arts, Game Design, and much more).'Behance' had over `10 million` creators.\n",
    "\n",
    "Each month, thousands of creators are discovered on Behance for new job opportunities.In the past year, over 160 million people have visited Behance in search of inspiration and viewed work on Behance over 2.25 billion times"
   ]
  },
  {
   "cell_type": "markdown",
   "metadata": {
    "id": "V6wvoG81hsl5"
   },
   "source": [
    "![](https://i.imgur.com/YmXvglL.jpg)"
   ]
  },
  {
   "cell_type": "markdown",
   "metadata": {
    "id": "4tv_p1FWJ1bw"
   },
   "source": [
    "Behance is a open source social platform where creative professionals showcase their talent and\n",
    "collect ideas."
   ]
  },
  {
   "cell_type": "markdown",
   "metadata": {
    "id": "OudQinl9IAPd"
   },
   "source": [
    "Here, creators showcase their work in the form of Projects.\n",
    "\n",
    " A Project is a grouping of images, videos, and other digital content with a related theme or process. Every project has a unique URL that can be shared across the web, as well as a View and Appreciation counter so you can track how many people have seen your project and given you kudos on a job well done."
   ]
  },
  {
   "cell_type": "markdown",
   "metadata": {
    "id": "PFDl2-jOlEB1"
   },
   "source": [
    "##**Scraping Top 40 Projects for different creative fields from Behance Website**"
   ]
  },
  {
   "cell_type": "markdown",
   "metadata": {
    "id": "1Yck35zfg1JR"
   },
   "source": [
    "\n",
    "![](https://i.imgur.com/1MomnfK.jpg)\n",
    "\n",
    "Image credits - [Matt Chinworth](https://www.behance.net/mattchinworth) from [Behance](https://www.behance.net)\n",
    "\n"
   ]
  },
  {
   "cell_type": "markdown",
   "metadata": {
    "id": "Gl7pZu-JXY1o"
   },
   "source": [
    "You can check out more creative illustrations here on https://www.behance.net/mattchinworth"
   ]
  },
  {
   "cell_type": "markdown",
   "metadata": {
    "id": "7U7RQozuKqj8"
   },
   "source": [
    "##### **Objective**:\n",
    "Scraping the `All Time Most Appreciated 40 projects` in each creative field by parsing the information from this website in the form of Tabular data."
   ]
  },
  {
   "cell_type": "markdown",
   "metadata": {
    "id": "DumUfOqjXY1s"
   },
   "source": [
    "#####  **List of creative fields on website:**\n",
    "\n",
    "1. Architecture\n",
    "2. Art Direction\n",
    "3. Branding\n",
    "4. Fashion\n",
    "5. Graphic Design\n",
    "6. Illustration\n",
    "7. Industrial Design\n",
    "8. Interaction \n",
    "9. Motion Graphics\n",
    "10. Photography\n",
    "11. UI/UX\n",
    "12. Web Design\n",
    "\n",
    "\n",
    "\n",
    "\n",
    "\n",
    "\n",
    "\n",
    "\n"
   ]
  },
  {
   "cell_type": "markdown",
   "metadata": {
    "id": "XgzNm3yrOFKO"
   },
   "source": [
    "![](https://i.imgur.com/yyTfADh.jpg)"
   ]
  },
  {
   "cell_type": "markdown",
   "metadata": {
    "id": "qtah_afkOQsF"
   },
   "source": [
    "## **Outline of the project:**\n",
    "1. Understanding the structure of [Behance Website](\"www.behance.net\")\n",
    "2. Installing and Importing required libraries \n",
    "3. Simulating the page and Extracting the URLs of different creative fields from website using `kora.selenium`\n",
    "4. Accessing each field label and building a URL (Total 12 fields as listed above)\n",
    "5. Parsing the Top 40 Project details into 6 fields: Project Title,Project Link,Creator Name,Creator Profile link,Likes,Views using Helper Functions.\n",
    "6. Storing the extracted data into a dictionary.\n",
    "7. Compiling all the data into a DataFrame using `Pandas` and saving the data  into `CSV` file."
   ]
  },
  {
   "cell_type": "markdown",
   "metadata": {
    "id": "XVyOBLHjN9O2"
   },
   "source": [
    "By the end of the project we’ll create DataFrame in the following format:\n",
    "![](https://i.imgur.com/P9Vy79T.jpg)\n"
   ]
  },
  {
   "cell_type": "markdown",
   "metadata": {
    "id": "8StGnTUgyGDK"
   },
   "source": [
    "## **Experimenting with Python Library -  BeautifulSoup**"
   ]
  },
  {
   "cell_type": "markdown",
   "metadata": {
    "id": "e-IzlDfv_Fra"
   },
   "source": [
    "First import the `requests` and `BeautifulSoup` libraries.\n",
    "We can use `get()` method from requests. \n",
    "The `get()` method for page_url returns a web object containing the data from web page."
   ]
  },
  {
   "cell_type": "code",
   "execution_count": null,
   "metadata": {
    "colab": {
     "base_uri": "https://localhost:8080/"
    },
    "executionInfo": {
     "elapsed": 2703,
     "status": "ok",
     "timestamp": 1655404874851,
     "user": {
      "displayName": "Pravallika Molleti",
      "userId": "03165852627722214263"
     },
     "user_tz": -330
    },
    "id": "37kdULdxXY1w",
    "outputId": "e01bd5a9-3789-485f-c3f0-6ef822f2dc72"
   },
   "outputs": [
    {
     "name": "stdout",
     "output_type": "stream",
     "text": [
      "Status Code: 200\n"
     ]
    }
   ],
   "source": [
    "import  requests\n",
    "from bs4 import BeautifulSoup \n",
    "\n",
    "#We use requests.get to download the content from a webpage\n",
    "response = requests.get('https://www.behance.net/')\n",
    "\n",
    "# checking the status of the response by response.status_code .\n",
    "# A Valid url status code ranges between 200 to 299\n",
    "print('Status Code:', response.status_code)"
   ]
  },
  {
   "cell_type": "code",
   "execution_count": null,
   "metadata": {
    "id": "B0WMatY8XY1y"
   },
   "outputs": [],
   "source": [
    "#Writing the page contents into a html file\n",
    "with open('top projects.html','w') as f:\n",
    "    f.write(response.text)\n",
    "# Converting the page to  Beautiful soup document using html.parser\n",
    "doc = BeautifulSoup(response.text,'html.parser')"
   ]
  },
  {
   "cell_type": "markdown",
   "metadata": {
    "id": "UX4G7VY-pyew"
   },
   "source": [
    "## **Since, Behance is a Dynamic Website - Selenium is preferred to locate Web Elements easily**"
   ]
  },
  {
   "cell_type": "markdown",
   "metadata": {
    "id": "cKidkOXYzDLL"
   },
   "source": [
    "1. Behance is a dynamic website using javascript \n",
    ", therefore selenium is preferred to prevent the interruptions while fetching the data.Although We can also use Beautiful soup to scrape the data to certain extent but, However it fails to locate the elements in most cases.\n",
    "2. If you want to code on you local machine install Selenium webdrivers and relevant webdriver for your browser to extract the page, But if you are coding on cloud based platform such as google colab then you can install kora Selenium in few steps.This kora Selenium may not work on other cloud platforms .\n",
    "        * To use Selenium library on Google Colab, we will install `kora` \n",
    "        * From kora.selenium, we will import Selenium WebDriver import `wd`"
   ]
  },
  {
   "cell_type": "markdown",
   "metadata": {
    "id": "pMHjgXC-Ev2l"
   },
   "source": [
    "### **1.Installing Kora.Selenium and Importing webdriver**"
   ]
  },
  {
   "cell_type": "code",
   "execution_count": null,
   "metadata": {
    "colab": {
     "base_uri": "https://localhost:8080/"
    },
    "executionInfo": {
     "elapsed": 36824,
     "status": "ok",
     "timestamp": 1655404930113,
     "user": {
      "displayName": "Pravallika Molleti",
      "userId": "03165852627722214263"
     },
     "user_tz": -330
    },
    "id": "Z_DmYg3Wot71",
    "outputId": "145c7b47-310f-4e96-e577-db4b1219dfe1"
   },
   "outputs": [
    {
     "name": "stdout",
     "output_type": "stream",
     "text": [
      "\u001b[K     |████████████████████████████████| 57 kB 4.7 MB/s \n",
      "\u001b[K     |████████████████████████████████| 60 kB 8.2 MB/s \n",
      "\u001b[?25h"
     ]
    }
   ],
   "source": [
    "!pip install kora -q\n",
    "from kora.selenium import wd"
   ]
  },
  {
   "cell_type": "markdown",
   "metadata": {
    "id": "49nIsKPc9_wo"
   },
   "source": [
    "We will use `wd.get()` to simulate to the web page"
   ]
  },
  {
   "cell_type": "code",
   "execution_count": null,
   "metadata": {
    "colab": {
     "base_uri": "https://localhost:8080/",
     "height": 617
    },
    "executionInfo": {
     "elapsed": 6438,
     "status": "ok",
     "timestamp": 1655404942243,
     "user": {
      "displayName": "Pravallika Molleti",
      "userId": "03165852627722214263"
     },
     "user_tz": -330
    },
    "id": "Adnd11KdAPUo",
    "outputId": "1d0a469c-a45b-44a0-b119-29425d4483ca"
   },
   "outputs": [
    {
     "data": {
      "image/png": "[encoded data removed]",
      "text/plain": [
       "<selenium.webdriver.chrome.webdriver.WebDriver (session=\"a7568c60b64028773c37654d3e7d95fd\")>"
      ]
     },
     "execution_count": 8,
     "metadata": {},
     "output_type": "execute_result"
    }
   ],
   "source": [
    "base_url = 'https://www.behance.net/search/projects?sort=appreciations&time=all'\n",
    "wd.get(base_url)\n",
    "wd"
   ]
  },
  {
   "cell_type": "markdown",
   "metadata": {
    "id": "tk6Ahs_m20a_"
   },
   "source": [
    "##### **Defining a function to check the status code of the url using `requests` and `response.status_code`**"
   ]
  },
  {
   "cell_type": "code",
   "execution_count": null,
   "metadata": {
    "id": "USBPB6du3CqL"
   },
   "outputs": [],
   "source": [
    "def check_status_code(url):\n",
    "\n",
    "  #We use requests.get to download the content from a webpage\n",
    "  response = requests.get(url)\n",
    "\n",
    "  # checking the status of the response by response.status_code .\n",
    "  # A Valid url status code ranges between 200 to 299\n",
    "  if not response.ok:\n",
    "     raise Exception ('Failed to fetch the webpage')\n",
    "  \n",
    "  return response.status_code"
   ]
  },
  {
   "cell_type": "markdown",
   "metadata": {
    "id": "KDlWz8SXtr9q"
   },
   "source": [
    "#### **Before Extracting the data , Let's import** \n",
    "\n",
    "**`WebDriverWait`**- Some times WebDriver does not track the active web elements.In such cases WebdriverWait is applied on certain web element with defined waiting time and conditions to track the elements .\n",
    "\n",
    "**`expected_conditions as EC`**-WebDriverWait in combination with ExpectedCondition will enable wait only as long as required\n",
    "\n",
    "**`By`**- locates elements via attributes (class,tag,id)"
   ]
  },
  {
   "cell_type": "code",
   "execution_count": null,
   "metadata": {
    "id": "5NBRegsxZAI1"
   },
   "outputs": [],
   "source": [
    "from selenium.webdriver.support.ui import WebDriverWait\n",
    "from selenium.webdriver.support import expected_conditions as EC\n",
    "from selenium.webdriver.common.by import By"
   ]
  },
  {
   "cell_type": "markdown",
   "metadata": {
    "id": "seRteNzHAvHJ"
   },
   "source": [
    "### **2.Extracting the labels of different fields**"
   ]
  },
  {
   "cell_type": "markdown",
   "metadata": {
    "id": "gYBQabNM_zil"
   },
   "source": [
    "The URL of different fields are as follows:\n",
    "\n",
    "Architecture - https://www.behance.net/search/projects?sort=appreciations&time=all&field=architecture\n",
    "\n",
    "Art Direction - https://www.behance.net/search/projects?sort=appreciations&time=all&field=art%20direction\n",
    "\n",
    "We need to build the url by string concatenation of `base url` and `label` replace ' ' with '%20' in the label to access the page url"
   ]
  },
  {
   "cell_type": "markdown",
   "metadata": {
    "id": "1-wlrzEusyCd"
   },
   "source": [
    "- In Selenium automation, there may be times when elements cannot be found with general locators like ID, name, class, etc. And this is when XPath is used to locate those elements on the webpage. XPath in Selenium may be used on both XML and HTML documents.\n",
    "- To get the class name, right click on the button and select “Inspect Elements” and hover over the button to locate the class name."
   ]
  },
  {
   "cell_type": "code",
   "execution_count": null,
   "metadata": {
    "id": "vIkg00zSAO_-"
   },
   "outputs": [],
   "source": [
    "# Finding the <ul_tags to access the list of creative fields\n",
    "ul_tags = WebDriverWait(wd, 10).until(EC.presence_of_all_elements_located((By.XPATH, '//*[@class=\"creativeFieldsList\"]')))\n",
    "\n",
    "# Accessing each field from the <label tags\n",
    "field_label = ul_tags[0].find_elements(By.TAG_NAME,\"label\")\n",
    "\n",
    "# print(f'Found {len(field_labels) creative fields')"
   ]
  },
  {
   "cell_type": "markdown",
   "metadata": {
    "id": "Eo4heaSG-yvJ"
   },
   "source": [
    "Now, to extract the text of field labels, we need to loop over the list that contains WebElement and use the `.get_attribute()` passing innerHTML\n",
    "\n"
   ]
  },
  {
   "cell_type": "code",
   "execution_count": null,
   "metadata": {
    "id": "siN6VPshAOpA"
   },
   "outputs": [],
   "source": [
    "fields_list =[]\n",
    "for i in field_label[1:]:\n",
    "  # The URL are in the format \n",
    "  fields_list.append((i.get_attribute(\"textContent\").strip()).replace(' ','%20'))"
   ]
  },
  {
   "cell_type": "code",
   "execution_count": null,
   "metadata": {
    "colab": {
     "base_uri": "https://localhost:8080/"
    },
    "executionInfo": {
     "elapsed": 480,
     "status": "ok",
     "timestamp": 1655404980348,
     "user": {
      "displayName": "Pravallika Molleti",
      "userId": "03165852627722214263"
     },
     "user_tz": -330
    },
    "id": "9f3-TTk4CSiE",
    "outputId": "d4a97c3f-1f2a-4626-f320-706e9af7f390"
   },
   "outputs": [
    {
     "data": {
      "text/plain": [
       "['Architecture',\n",
       " 'Art%20Direction',\n",
       " 'Branding',\n",
       " 'Fashion',\n",
       " 'Graphic%20Design',\n",
       " 'Illustration',\n",
       " 'Industrial%20Design',\n",
       " 'Interaction%20Design',\n",
       " 'Motion%20Graphics',\n",
       " 'Photography',\n",
       " 'UI/UX',\n",
       " 'Web%20Design']"
      ]
     },
     "execution_count": 13,
     "metadata": {},
     "output_type": "execute_result"
    }
   ],
   "source": [
    "fields_list"
   ]
  },
  {
   "cell_type": "markdown",
   "metadata": {
    "id": "mjueDpOX_UWY"
   },
   "source": [
    "Now, we have the list of different fields. Let's build an URL for each field."
   ]
  },
  {
   "cell_type": "markdown",
   "metadata": {
    "id": "264l5HNqCg_F"
   },
   "source": [
    "### **3.URL Making - For each different field**\n"
   ]
  },
  {
   "cell_type": "markdown",
   "metadata": {
    "id": "ZFJUZBttFH93"
   },
   "source": [
    "\n",
    "`base_url = \"https://www.behance.net/search/projects?sort=appreciations&time=all&field=\" + _____________ ` "
   ]
  },
  {
   "cell_type": "code",
   "execution_count": null,
   "metadata": {
    "id": "vPNa1EWeDoZ0"
   },
   "outputs": [],
   "source": [
    "#Helper function to build the url\n",
    "def get_field_page(field):\n",
    "\n",
    "  base_url_1 = \"https://www.behance.net/search/projects?sort=appreciations&time=all&field=\" \n",
    "        \n",
    "  #Constructing the URL\n",
    "  field_page_url = base_url_1 + field \n",
    "        \n",
    "  return field_page_url"
   ]
  },
  {
   "cell_type": "markdown",
   "metadata": {
    "id": "zdv04eCY_-yE"
   },
   "source": [
    "Let's get a list of links using `for loop` iterating over the fields_list"
   ]
  },
  {
   "cell_type": "code",
   "execution_count": null,
   "metadata": {
    "id": "M8fjLsmfFuXm"
   },
   "outputs": [],
   "source": [
    "#Helper function to iterate over a list of labels and build urls for each one of them\n",
    "def get_field_url(fields_list):\n",
    "  links = []\n",
    "  for field in fields_list:\n",
    "    links.append(get_field_page(field))\n",
    "  return links "
   ]
  },
  {
   "cell_type": "code",
   "execution_count": null,
   "metadata": {
    "colab": {
     "base_uri": "https://localhost:8080/"
    },
    "executionInfo": {
     "elapsed": 472,
     "status": "ok",
     "timestamp": 1655404990407,
     "user": {
      "displayName": "Pravallika Molleti",
      "userId": "03165852627722214263"
     },
     "user_tz": -330
    },
    "id": "MQOTjon_ceSf",
    "outputId": "d48213de-49a7-4a8a-a7a7-33c57ed286b4"
   },
   "outputs": [
    {
     "data": {
      "text/plain": [
       "['https://www.behance.net/search/projects?sort=appreciations&time=all&field=Architecture',\n",
       " 'https://www.behance.net/search/projects?sort=appreciations&time=all&field=Art%20Direction',\n",
       " 'https://www.behance.net/search/projects?sort=appreciations&time=all&field=Branding',\n",
       " 'https://www.behance.net/search/projects?sort=appreciations&time=all&field=Fashion',\n",
       " 'https://www.behance.net/search/projects?sort=appreciations&time=all&field=Graphic%20Design',\n",
       " 'https://www.behance.net/search/projects?sort=appreciations&time=all&field=Illustration',\n",
       " 'https://www.behance.net/search/projects?sort=appreciations&time=all&field=Industrial%20Design',\n",
       " 'https://www.behance.net/search/projects?sort=appreciations&time=all&field=Interaction%20Design',\n",
       " 'https://www.behance.net/search/projects?sort=appreciations&time=all&field=Motion%20Graphics',\n",
       " 'https://www.behance.net/search/projects?sort=appreciations&time=all&field=Photography',\n",
       " 'https://www.behance.net/search/projects?sort=appreciations&time=all&field=UI/UX',\n",
       " 'https://www.behance.net/search/projects?sort=appreciations&time=all&field=Web%20Design']"
      ]
     },
     "execution_count": 16,
     "metadata": {},
     "output_type": "execute_result"
    }
   ],
   "source": [
    "field_links = get_field_url(fields_list)\n",
    "field_links\n"
   ]
  },
  {
   "cell_type": "markdown",
   "metadata": {
    "id": "_BejF94I4lKA"
   },
   "source": [
    "Looping over all the above field_links to check the response status by calling the function `check_status_code`"
   ]
  },
  {
   "cell_type": "code",
   "execution_count": null,
   "metadata": {
    "colab": {
     "base_uri": "https://localhost:8080/"
    },
    "executionInfo": {
     "elapsed": 17411,
     "status": "ok",
     "timestamp": 1655405011200,
     "user": {
      "displayName": "Pravallika Molleti",
      "userId": "03165852627722214263"
     },
     "user_tz": -330
    },
    "id": "JrcyJwYF4kBS",
    "outputId": "dd096796-ae83-4abc-f5ca-fcbdb1532e54"
   },
   "outputs": [
    {
     "data": {
      "text/plain": [
       "[200, 200, 200, 200, 200, 200, 200, 200, 200, 200, 200, 200]"
      ]
     },
     "execution_count": 17,
     "metadata": {},
     "output_type": "execute_result"
    }
   ],
   "source": [
    "status_code =[]\n",
    "for link in field_links:\n",
    "  status_code.append(check_status_code(link))\n",
    "status_code"
   ]
  },
  {
   "cell_type": "markdown",
   "metadata": {
    "id": "z7f8NbeyMY7A"
   },
   "source": [
    "### **4.Accessing the Top 40 projects from the first field - Architecture**\n",
    "\n",
    "---\n",
    "\n"
   ]
  },
  {
   "cell_type": "markdown",
   "metadata": {
    "id": "ecd2AAw5p3bT"
   },
   "source": [
    "Each projects are linked to the `<li_tags>` with `class_name =\"ContentGrid-gridItem-VXS e2e-ContentGrid-item\"`as shown in the below image\n",
    "![](https://i.imgur.com/Mr54ITw.png)"
   ]
  },
  {
   "cell_type": "markdown",
   "metadata": {
    "id": "eq1zRCM6F7Nf"
   },
   "source": [
    "We use `wd.get()` to access the web elements and storing them in a variable `project_tags`"
   ]
  },
  {
   "cell_type": "code",
   "execution_count": null,
   "metadata": {
    "colab": {
     "base_uri": "https://localhost:8080/"
    },
    "executionInfo": {
     "elapsed": 3550,
     "status": "ok",
     "timestamp": 1655405018724,
     "user": {
      "displayName": "Pravallika Molleti",
      "userId": "03165852627722214263"
     },
     "user_tz": -330
    },
    "id": "tmFN2X_AmflC",
    "outputId": "a36581ec-a66c-4963-813f-3fe961e2a476"
   },
   "outputs": [
    {
     "data": {
      "text/plain": [
       "48"
      ]
     },
     "execution_count": 18,
     "metadata": {},
     "output_type": "execute_result"
    }
   ],
   "source": [
    "wd.get('https://www.behance.net/search/projects?sort=appreciations&time=all&field=Architecture')\n",
    "project_tags = WebDriverWait(wd, 10).until(EC.presence_of_all_elements_located((By.XPATH, '//*[@class=\"ContentGrid-gridItem-VXS e2e-ContentGrid-item\"]')))\n",
    "len(project_tags)"
   ]
  },
  {
   "cell_type": "markdown",
   "metadata": {
    "id": "CvVCwBy6lpkV"
   },
   "source": [
    "##### **Accessing top 40 projects through and Extracting the details from `<project_tags>` using the for loop**\n",
    "\n",
    "\n"
   ]
  },
  {
   "cell_type": "markdown",
   "metadata": {
    "id": "Gqvz3yMNqWS5"
   },
   "source": [
    "- Each project is having Project Title,Project Link,Creator Name ,Creator Link,Likes,Views etc\n",
    "\n",
    "- Looking closely, we can see that Few projects have Multiple owners and the `creator names` and `creator link` tags are masked. For now, we will print \"Multiple owners\" instead of scraping the details using the if-else condition "
   ]
  },
  {
   "cell_type": "markdown",
   "metadata": {
    "id": "00_CCL0Qbq87"
   },
   "source": [
    "- **Helper Function to extract the project title**"
   ]
  },
  {
   "cell_type": "code",
   "execution_count": null,
   "metadata": {
    "id": "4Q9Ggwn3jUam"
   },
   "outputs": [],
   "source": [
    "def get_project_title(project_tags):\n",
    "\n",
    "  project_title=[]  #creating an empty list to store project titles\n",
    "\n",
    "  for tag in project_tags[:40]:\n",
    "    # project titles are present in `<a>` tags and `.text` method is used to extract the text\n",
    "    a1_tag = tag.find_elements(By.TAG_NAME,'a')\n",
    "    proj_title =a1_tag[-2].text\n",
    "    # Using if condition - If there is a single owner then `if` gets executed and in case of multiple owners `else` gets executed\n",
    "    if proj_title:\n",
    "      project_title.append(proj_title)\n",
    "    else:\n",
    "      project_title.append(a1_tag[-1].text)\n",
    "  \n",
    "  return project_title"
   ]
  },
  {
   "cell_type": "code",
   "execution_count": null,
   "metadata": {
    "id": "uzFrTkFojSVT"
   },
   "outputs": [],
   "source": [
    "get_project_title(project_tags)[:5]"
   ]
  },
  {
   "cell_type": "markdown",
   "metadata": {
    "id": "BkcqWhZlb3j7"
   },
   "source": [
    "- **Helper Function to extract the project link**"
   ]
  },
  {
   "cell_type": "code",
   "execution_count": null,
   "metadata": {
    "id": "NsQ4kzIclRqP"
   },
   "outputs": [],
   "source": [
    "def get_project_link(project_tags):\n",
    "\n",
    "  project_link = []  #creating an empty list to store project links\n",
    "  \n",
    "  for tag in project_tags[:40]:\n",
    "    # project links are present in `<a>` tags and `[href]` method is used to extract the link\n",
    "    a1_tag = tag.find_elements(By.TAG_NAME,'a')\n",
    "    proj_title =a1_tag[-2].text\n",
    "    proj_link = a1_tag[-2]['href']\n",
    "\n",
    "    if proj_title:\n",
    "      project_link.append(proj_link)\n",
    "    else:\n",
    "      project_link.append(a1_tag[-1]['href'])\n",
    "  \n",
    "  return project_link\n"
   ]
  },
  {
   "cell_type": "code",
   "execution_count": null,
   "metadata": {
    "id": "Qs43AOZlmkQJ"
   },
   "outputs": [],
   "source": [
    "get_project_link(project_tags)[:5]"
   ]
  },
  {
   "cell_type": "markdown",
   "metadata": {
    "id": "bTPJkCBhb7K7"
   },
   "source": [
    "- **Helper Function to extract the creator name**"
   ]
  },
  {
   "cell_type": "code",
   "execution_count": null,
   "metadata": {
    "id": "TXg6wR6NmoU3"
   },
   "outputs": [],
   "source": [
    "def get_creator_name(project_tags):\n",
    "\n",
    "  creator_name = []  #creating an empty list to store creator names\n",
    "  \n",
    "  for tag in project_tags[:40]:\n",
    "    # creator names are present in `<a>` tags and `.text` method is used to extract the text\n",
    "    a1_tag = tag.find_elements(By.TAG_NAME,'a')\n",
    "    proj_title =a1_tag[-2].text\n",
    "    \n",
    "    # Using if condition - If there is a single owner then `if` gets executed and in case of multiple owners `else` gets executed\n",
    "    if proj_title:\n",
    "      creator_name.append(a1_tag[-1].text)\n",
    "    else:\n",
    "      creator_name.append(\"Multiple Owners\")\n",
    "  \n",
    "  return creator_name"
   ]
  },
  {
   "cell_type": "code",
   "execution_count": null,
   "metadata": {
    "id": "mxl26VFMnf24"
   },
   "outputs": [],
   "source": [
    "get_creator_name(project_tags)[:5]"
   ]
  },
  {
   "cell_type": "markdown",
   "metadata": {
    "id": "TEjIw9C8b_kc"
   },
   "source": [
    "- **Helper Function to extract the creator link**"
   ]
  },
  {
   "cell_type": "code",
   "execution_count": null,
   "metadata": {
    "id": "_f7PNXbXnqn0"
   },
   "outputs": [],
   "source": [
    "def get_creator_link(project_tags):\n",
    "\n",
    "  creator_link = []  #creating an empty list to store creator links\n",
    "  \n",
    "  for tag in project_tags[:40]:\n",
    "    # creator links are present in `<a>` tags and `[href]` method is used to extract the links\n",
    "    a1_tag = tag.find_elements(By.TAG_NAME,'a')\n",
    "    proj_title =a1_tag[-2].text\n",
    "    if proj_title:\n",
    "      creator_link.append(a1_tag[-1]['href'])\n",
    "    else:\n",
    "      creator_link.append(\"Multiple Owners\")\n",
    "  \n",
    "  return creator_link"
   ]
  },
  {
   "cell_type": "code",
   "execution_count": null,
   "metadata": {
    "id": "ZbpqqZIRn-dC"
   },
   "outputs": [],
   "source": [
    "get_creator_link(project_tags)[:5]"
   ]
  },
  {
   "cell_type": "markdown",
   "metadata": {
    "id": "q1yj348RcDz7"
   },
   "source": [
    "- **Helper Function to extract the number of likes**"
   ]
  },
  {
   "cell_type": "code",
   "execution_count": null,
   "metadata": {
    "id": "YHVskaJdo05L"
   },
   "outputs": [],
   "source": [
    "def get_likes(project_tags):\n",
    "\n",
    "  likes = []  #creating an empty list to store likes\n",
    "  \n",
    "  for tag in project_tags[:40]:\n",
    "    # Likes are present in `<span>` tags and `.text` method is used to extract the text\n",
    "    span_tag = tag.find_elements(By.TAG_NAME,'span')\n",
    "    likes.append(span_tag[-2].text)\n",
    "\n",
    "   # Using for loop to remove 'k' from '12.5k'\n",
    "    no_of_likes = []\n",
    "    for like in likes:\n",
    "      if like[-1] == 'k':\n",
    "        no_of_likes.append(int(float(like[:-1])*1000))\n",
    "\n",
    "  return no_of_likes"
   ]
  },
  {
   "cell_type": "code",
   "execution_count": null,
   "metadata": {
    "id": "tzAmtc8spnlO"
   },
   "outputs": [],
   "source": [
    "get_likes(project_tags)[:5]"
   ]
  },
  {
   "cell_type": "markdown",
   "metadata": {
    "id": "aTYZe_fbcH0a"
   },
   "source": [
    "- **Helper Function to extract number of views**"
   ]
  },
  {
   "cell_type": "code",
   "execution_count": null,
   "metadata": {
    "id": "pOvRjsHKqhoT"
   },
   "outputs": [],
   "source": [
    "def get_views(project_tags):\n",
    "\n",
    "  views = []  #creating an empty list to store views\n",
    "  \n",
    "  for tag in project_tags[:40]:\n",
    "    # Views are present in `<span>` tags and `.text` method is used to extract the text\n",
    "    span_tag = tag.find_elements(By.TAG_NAME,'span')\n",
    "    views.append(span_tag[-1].text)\n",
    "\n",
    "    # Using for loop to remove 'k' from '12.5k'\n",
    "    no_of_views = []\n",
    "    for view in views:\n",
    "      if view[-1] == 'k':\n",
    "        no_of_views.append(int(float(view[:-1])*1000))\n",
    "\n",
    "  return no_of_views"
   ]
  },
  {
   "cell_type": "code",
   "execution_count": null,
   "metadata": {
    "id": "uYSjevvRq2iV"
   },
   "outputs": [],
   "source": [
    "get_views(project_tags)[:5]"
   ]
  },
  {
   "cell_type": "markdown",
   "metadata": {
    "id": "B_Bo2-l78yXy"
   },
   "source": [
    "### **5.Storing all the Extracted data into a Dictionary**"
   ]
  },
  {
   "cell_type": "code",
   "execution_count": null,
   "metadata": {
    "id": "buI5nDu98nq7"
   },
   "outputs": [],
   "source": [
    "def get_all_details(project_tags):\n",
    "\n",
    "    #using get_project_title function to extract project_title\n",
    "  projecttitle = get_project_title(project_tags)\n",
    "    #using get_project_link function to extract project_link\n",
    "  projectlink = get_project_link(project_tags)\n",
    "    #using get_creator_name function to extract creator_name\n",
    "  creatorname = get_creator_name(project_tags)\n",
    "    #using get_creator_link function to extract creator_link\n",
    "  creatorlink = get_creator_link(project_tags)\n",
    "    #using get_likes function to extract creator_link\n",
    "  no_oflikes = get_likes(project_tags)\n",
    "  no_ofviews = get_views(project_tags)\n",
    "\n",
    "  return{\n",
    "      \"Project Title\": projecttitle,\n",
    "      \"Project Link\": projectlink,\n",
    "      \"Creator Name\": creatorname,\n",
    "      \"Creator Link\": creatorlink,\n",
    "      \"Likes\": no_oflikes,\n",
    "      \"Views\": no_ofviews\n",
    "  }\n",
    "  "
   ]
  },
  {
   "cell_type": "code",
   "execution_count": null,
   "metadata": {
    "id": "YJo1oetSyFDX"
   },
   "outputs": [],
   "source": [
    "#get_all_details(project_tags) "
   ]
  },
  {
   "cell_type": "markdown",
   "metadata": {
    "id": "kLzUznwL6oye"
   },
   "source": [
    "### **6.Creating a Data Frame using Pandas Library**"
   ]
  },
  {
   "cell_type": "code",
   "execution_count": null,
   "metadata": {
    "id": "pF_xyOup68rZ"
   },
   "outputs": [],
   "source": [
    "import pandas as pd\n",
    "field1_df = pd.DataFrame(get_all_details(project_tags))\n",
    "field1_df.index += 1"
   ]
  },
  {
   "cell_type": "code",
   "execution_count": null,
   "metadata": {
    "colab": {
     "base_uri": "https://localhost:8080/",
     "height": 1075
    },
    "executionInfo": {
     "elapsed": 503,
     "status": "ok",
     "timestamp": 1655405083126,
     "user": {
      "displayName": "Pravallika Molleti",
      "userId": "03165852627722214263"
     },
     "user_tz": -330
    },
    "id": "dhI5zVNK820c",
    "outputId": "47493784-0251-4c46-cbec-dc0e65acee8e"
   },
   "outputs": [
    {
     "data": {
      "text/html": [
       "\n",
       "  <div id=\"df-4b1addf5-87ac-4fb4-a43b-b676c29f8674\">\n",
       "    <div class=\"colab-df-container\">\n",
       "      <div>\n",
       "<style scoped>\n",
       "    .dataframe tbody tr th:only-of-type {\n",
       "        vertical-align: middle;\n",
       "    }\n",
       "\n",
       "    .dataframe tbody tr th {\n",
       "        vertical-align: top;\n",
       "    }\n",
       "\n",
       "    .dataframe thead th {\n",
       "        text-align: right;\n",
       "    }\n",
       "</style>\n",
       "<table border=\"1\" class=\"dataframe\">\n",
       "  <thead>\n",
       "    <tr style=\"text-align: right;\">\n",
       "      <th></th>\n",
       "      <th>Project Title</th>\n",
       "      <th>Project Link</th>\n",
       "      <th>Creator Name</th>\n",
       "      <th>Creator Link</th>\n",
       "      <th>Likes</th>\n",
       "      <th>Views</th>\n",
       "    </tr>\n",
       "  </thead>\n",
       "  <tbody>\n",
       "    <tr>\n",
       "      <th>1</th>\n",
       "      <td>Tōkyō desu</td>\n",
       "      <td>https://www.behance.net/gallery/31547413/Tokyo...</td>\n",
       "      <td>Nina Geometrieva</td>\n",
       "      <td>https://www.behance.net/geometrieva?tracking_s...</td>\n",
       "      <td>12500</td>\n",
       "      <td>125100</td>\n",
       "    </tr>\n",
       "    <tr>\n",
       "      <th>2</th>\n",
       "      <td>Gallery</td>\n",
       "      <td>https://www.behance.net/gallery/5152437/Galler...</td>\n",
       "      <td>Gediminas Pranckevicius</td>\n",
       "      <td>https://www.behance.net/gedomenas?tracking_sou...</td>\n",
       "      <td>11400</td>\n",
       "      <td>82400</td>\n",
       "    </tr>\n",
       "    <tr>\n",
       "      <th>3</th>\n",
       "      <td>The Hungarian Guggenheim</td>\n",
       "      <td>https://www.behance.net/gallery/17449717/The-H...</td>\n",
       "      <td>Multiple Owners</td>\n",
       "      <td>Multiple Owners</td>\n",
       "      <td>11000</td>\n",
       "      <td>96800</td>\n",
       "    </tr>\n",
       "    <tr>\n",
       "      <th>4</th>\n",
       "      <td>Mirages</td>\n",
       "      <td>https://www.behance.net/gallery/65996821/Mirag...</td>\n",
       "      <td>Romain Trystram®</td>\n",
       "      <td>https://www.behance.net/romaintrystram?trackin...</td>\n",
       "      <td>10400</td>\n",
       "      <td>92700</td>\n",
       "    </tr>\n",
       "    <tr>\n",
       "      <th>5</th>\n",
       "      <td>Material Studies: Metals</td>\n",
       "      <td>https://www.behance.net/gallery/35636521/Mater...</td>\n",
       "      <td>Jarrod Hasenjager</td>\n",
       "      <td>https://www.behance.net/hasenjager?tracking_so...</td>\n",
       "      <td>10000</td>\n",
       "      <td>120500</td>\n",
       "    </tr>\n",
       "    <tr>\n",
       "      <th>6</th>\n",
       "      <td>City Layouts</td>\n",
       "      <td>https://www.behance.net/gallery/24276859/City-...</td>\n",
       "      <td>Luis Dilger</td>\n",
       "      <td>https://www.behance.net/luisdilger?tracking_so...</td>\n",
       "      <td>9600</td>\n",
       "      <td>124600</td>\n",
       "    </tr>\n",
       "    <tr>\n",
       "      <th>7</th>\n",
       "      <td>architecture 1</td>\n",
       "      <td>https://www.behance.net/gallery/9493557/archit...</td>\n",
       "      <td>Sunga Park</td>\n",
       "      <td>https://www.behance.net/parksunga?tracking_sou...</td>\n",
       "      <td>8900</td>\n",
       "      <td>76600</td>\n",
       "    </tr>\n",
       "    <tr>\n",
       "      <th>8</th>\n",
       "      <td>Towers of The Netherlands</td>\n",
       "      <td>https://www.behance.net/gallery/30333405/Tower...</td>\n",
       "      <td>Coen Pohl</td>\n",
       "      <td>https://www.behance.net/coenpohl?tracking_sour...</td>\n",
       "      <td>7000</td>\n",
       "      <td>67800</td>\n",
       "    </tr>\n",
       "    <tr>\n",
       "      <th>9</th>\n",
       "      <td>Montero</td>\n",
       "      <td>https://www.behance.net/gallery/5390705/Monter...</td>\n",
       "      <td>Anagrama Studio</td>\n",
       "      <td>https://www.behance.net/Anagrama?tracking_sour...</td>\n",
       "      <td>8700</td>\n",
       "      <td>124800</td>\n",
       "    </tr>\n",
       "    <tr>\n",
       "      <th>10</th>\n",
       "      <td>HOME</td>\n",
       "      <td>https://www.behance.net/gallery/63498577/HOME?...</td>\n",
       "      <td>Muhammed Sajid</td>\n",
       "      <td>https://www.behance.net/muhammedsajid?tracking...</td>\n",
       "      <td>6400</td>\n",
       "      <td>37700</td>\n",
       "    </tr>\n",
       "    <tr>\n",
       "      <th>11</th>\n",
       "      <td>Horizon Branding</td>\n",
       "      <td>https://www.behance.net/gallery/98569025/Horiz...</td>\n",
       "      <td>Multiple Owners</td>\n",
       "      <td>Multiple Owners</td>\n",
       "      <td>5900</td>\n",
       "      <td>48700</td>\n",
       "    </tr>\n",
       "    <tr>\n",
       "      <th>12</th>\n",
       "      <td>Wanderlust Alphabet – A-E</td>\n",
       "      <td>https://www.behance.net/gallery/41712999/Wande...</td>\n",
       "      <td>Jack Daly</td>\n",
       "      <td>https://www.behance.net/jackdaly?tracking_sour...</td>\n",
       "      <td>6500</td>\n",
       "      <td>51600</td>\n",
       "    </tr>\n",
       "    <tr>\n",
       "      <th>13</th>\n",
       "      <td>The Japanese Garden</td>\n",
       "      <td>https://www.behance.net/gallery/102848479/The-...</td>\n",
       "      <td>Multiple Owners</td>\n",
       "      <td>Multiple Owners</td>\n",
       "      <td>6300</td>\n",
       "      <td>52800</td>\n",
       "    </tr>\n",
       "    <tr>\n",
       "      <th>14</th>\n",
       "      <td>NEW YORK, BY THE WAY</td>\n",
       "      <td>https://www.behance.net/gallery/66333135/NEW-Y...</td>\n",
       "      <td>Ludwig Favre</td>\n",
       "      <td>https://www.behance.net/LUDWIGFAVRE?tracking_s...</td>\n",
       "      <td>6700</td>\n",
       "      <td>67000</td>\n",
       "    </tr>\n",
       "    <tr>\n",
       "      <th>15</th>\n",
       "      <td>Frosted Glass ICON</td>\n",
       "      <td>https://www.behance.net/gallery/109951579/Fros...</td>\n",
       "      <td>Changyu Hu</td>\n",
       "      <td>https://www.behance.net/huchangyu651e9?trackin...</td>\n",
       "      <td>5900</td>\n",
       "      <td>47400</td>\n",
       "    </tr>\n",
       "    <tr>\n",
       "      <th>16</th>\n",
       "      <td>Isometrics</td>\n",
       "      <td>https://www.behance.net/gallery/2581967/Isomet...</td>\n",
       "      <td>Timothy J. Reynolds</td>\n",
       "      <td>https://www.behance.net/turnislefthome?trackin...</td>\n",
       "      <td>7900</td>\n",
       "      <td>158100</td>\n",
       "    </tr>\n",
       "    <tr>\n",
       "      <th>17</th>\n",
       "      <td>I Like Architecture 2</td>\n",
       "      <td>https://www.behance.net/gallery/21002005/I-Lik...</td>\n",
       "      <td>Romain Trystram®</td>\n",
       "      <td>https://www.behance.net/romaintrystram?trackin...</td>\n",
       "      <td>6700</td>\n",
       "      <td>78600</td>\n",
       "    </tr>\n",
       "    <tr>\n",
       "      <th>18</th>\n",
       "      <td>I like architecture</td>\n",
       "      <td>https://www.behance.net/gallery/17299081/I-lik...</td>\n",
       "      <td>Romain Trystram®</td>\n",
       "      <td>https://www.behance.net/romaintrystram?trackin...</td>\n",
       "      <td>7000</td>\n",
       "      <td>80000</td>\n",
       "    </tr>\n",
       "    <tr>\n",
       "      <th>19</th>\n",
       "      <td>Haruki's apartment</td>\n",
       "      <td>https://www.behance.net/gallery/23313755/Haruk...</td>\n",
       "      <td>Multiple Owners</td>\n",
       "      <td>Multiple Owners</td>\n",
       "      <td>6100</td>\n",
       "      <td>90200</td>\n",
       "    </tr>\n",
       "    <tr>\n",
       "      <th>20</th>\n",
       "      <td>Dreamscapes II</td>\n",
       "      <td>https://www.behance.net/gallery/103790457/Drea...</td>\n",
       "      <td>Peter Tarka</td>\n",
       "      <td>https://www.behance.net/trk?tracking_source=se...</td>\n",
       "      <td>5700</td>\n",
       "      <td>55500</td>\n",
       "    </tr>\n",
       "    <tr>\n",
       "      <th>21</th>\n",
       "      <td>Northern Wisps</td>\n",
       "      <td>https://www.behance.net/gallery/64980791/North...</td>\n",
       "      <td>Bartosz Domiczek</td>\n",
       "      <td>https://www.behance.net/bartoszdomiczek?tracki...</td>\n",
       "      <td>6000</td>\n",
       "      <td>53200</td>\n",
       "    </tr>\n",
       "    <tr>\n",
       "      <th>22</th>\n",
       "      <td>Was ist Metaphysik? [pt.II]</td>\n",
       "      <td>https://www.behance.net/gallery/24938879/Was-i...</td>\n",
       "      <td>d- Arkroom ◆</td>\n",
       "      <td>https://www.behance.net/d-Arkroom?tracking_sou...</td>\n",
       "      <td>5900</td>\n",
       "      <td>52800</td>\n",
       "    </tr>\n",
       "    <tr>\n",
       "      <th>23</th>\n",
       "      <td>Skymetric</td>\n",
       "      <td>https://www.behance.net/gallery/14717593/Skyme...</td>\n",
       "      <td>Lino Russo</td>\n",
       "      <td>https://www.behance.net/linorusso?tracking_sou...</td>\n",
       "      <td>5900</td>\n",
       "      <td>64099</td>\n",
       "    </tr>\n",
       "    <tr>\n",
       "      <th>24</th>\n",
       "      <td>Duga Brand Identity</td>\n",
       "      <td>https://www.behance.net/gallery/80568835/Duga-...</td>\n",
       "      <td>Multiple Owners</td>\n",
       "      <td>Multiple Owners</td>\n",
       "      <td>5100</td>\n",
       "      <td>51600</td>\n",
       "    </tr>\n",
       "    <tr>\n",
       "      <th>25</th>\n",
       "      <td>Red sun, black sand</td>\n",
       "      <td>https://www.behance.net/gallery/11068425/Red-s...</td>\n",
       "      <td>Maxim Goudin</td>\n",
       "      <td>https://www.behance.net/melkhiah?tracking_sour...</td>\n",
       "      <td>20900</td>\n",
       "      <td>92500</td>\n",
       "    </tr>\n",
       "    <tr>\n",
       "      <th>26</th>\n",
       "      <td>ARC Research</td>\n",
       "      <td>https://www.behance.net/gallery/96910907/ARC-R...</td>\n",
       "      <td>Xtian Miller</td>\n",
       "      <td>https://www.behance.net/xtianmiller?tracking_s...</td>\n",
       "      <td>5100</td>\n",
       "      <td>51500</td>\n",
       "    </tr>\n",
       "    <tr>\n",
       "      <th>27</th>\n",
       "      <td>Various illustrations 2019</td>\n",
       "      <td>https://www.behance.net/gallery/79819315/Vario...</td>\n",
       "      <td>Romain Trystram®</td>\n",
       "      <td>https://www.behance.net/romaintrystram?trackin...</td>\n",
       "      <td>5300</td>\n",
       "      <td>61600</td>\n",
       "    </tr>\n",
       "    <tr>\n",
       "      <th>28</th>\n",
       "      <td>Agora - Brand design &amp; wayfinding</td>\n",
       "      <td>https://www.behance.net/gallery/69844481/Agora...</td>\n",
       "      <td>Graphéine</td>\n",
       "      <td>https://www.behance.net/grapheine?tracking_sou...</td>\n",
       "      <td>5300</td>\n",
       "      <td>92300</td>\n",
       "    </tr>\n",
       "    <tr>\n",
       "      <th>29</th>\n",
       "      <td>The Dublin Blue Period</td>\n",
       "      <td>https://www.behance.net/gallery/55143195/The-D...</td>\n",
       "      <td>Al Power</td>\n",
       "      <td>https://www.behance.net/AlPower?tracking_sourc...</td>\n",
       "      <td>5700</td>\n",
       "      <td>53900</td>\n",
       "    </tr>\n",
       "    <tr>\n",
       "      <th>30</th>\n",
       "      <td>Lines</td>\n",
       "      <td>https://www.behance.net/gallery/23267599/Lines...</td>\n",
       "      <td>Sebastian Weiss</td>\n",
       "      <td>https://www.behance.net/leblanc?tracking_sourc...</td>\n",
       "      <td>5000</td>\n",
       "      <td>62500</td>\n",
       "    </tr>\n",
       "    <tr>\n",
       "      <th>31</th>\n",
       "      <td>Rubik</td>\n",
       "      <td>https://www.behance.net/gallery/52288859/Rubik...</td>\n",
       "      <td>Multiple Owners</td>\n",
       "      <td>Multiple Owners</td>\n",
       "      <td>4700</td>\n",
       "      <td>44100</td>\n",
       "    </tr>\n",
       "    <tr>\n",
       "      <th>32</th>\n",
       "      <td>OON™ Architecture</td>\n",
       "      <td>https://www.behance.net/gallery/41876687/OON-A...</td>\n",
       "      <td>h3l AG</td>\n",
       "      <td>https://www.behance.net/h3l?tracking_source=se...</td>\n",
       "      <td>4600</td>\n",
       "      <td>64099</td>\n",
       "    </tr>\n",
       "    <tr>\n",
       "      <th>33</th>\n",
       "      <td>UTEC</td>\n",
       "      <td>https://www.behance.net/gallery/45675899/UTEC?...</td>\n",
       "      <td>Multiple Owners</td>\n",
       "      <td>Multiple Owners</td>\n",
       "      <td>4800</td>\n",
       "      <td>64500</td>\n",
       "    </tr>\n",
       "    <tr>\n",
       "      <th>34</th>\n",
       "      <td>NUMERICAL - ARCHITECTURE</td>\n",
       "      <td>https://www.behance.net/gallery/65808439/NUMER...</td>\n",
       "      <td>Muhammed Sajid</td>\n",
       "      <td>https://www.behance.net/muhammedsajid?tracking...</td>\n",
       "      <td>4400</td>\n",
       "      <td>28200</td>\n",
       "    </tr>\n",
       "    <tr>\n",
       "      <th>35</th>\n",
       "      <td>PRE-MOLD™. Construction Company. Modular Brand...</td>\n",
       "      <td>https://www.behance.net/gallery/83610047/PRE-M...</td>\n",
       "      <td>h3l AG</td>\n",
       "      <td>https://www.behance.net/h3l?tracking_source=se...</td>\n",
       "      <td>4600</td>\n",
       "      <td>57100</td>\n",
       "    </tr>\n",
       "    <tr>\n",
       "      <th>36</th>\n",
       "      <td>Blend Station</td>\n",
       "      <td>https://www.behance.net/gallery/49266167/Blend...</td>\n",
       "      <td>Futura .</td>\n",
       "      <td>https://www.behance.net/MFutura?tracking_sourc...</td>\n",
       "      <td>4900</td>\n",
       "      <td>77200</td>\n",
       "    </tr>\n",
       "    <tr>\n",
       "      <th>37</th>\n",
       "      <td>Architectural Explorations</td>\n",
       "      <td>https://www.behance.net/gallery/80894611/Archi...</td>\n",
       "      <td>Peter Tarka</td>\n",
       "      <td>https://www.behance.net/trk?tracking_source=se...</td>\n",
       "      <td>4800</td>\n",
       "      <td>55400</td>\n",
       "    </tr>\n",
       "    <tr>\n",
       "      <th>38</th>\n",
       "      <td>Somewhere else</td>\n",
       "      <td>https://www.behance.net/gallery/16690157/Somew...</td>\n",
       "      <td>Romain Trystram®</td>\n",
       "      <td>https://www.behance.net/romaintrystram?trackin...</td>\n",
       "      <td>4200</td>\n",
       "      <td>35900</td>\n",
       "    </tr>\n",
       "    <tr>\n",
       "      <th>39</th>\n",
       "      <td>Melting Memories</td>\n",
       "      <td>https://www.behance.net/gallery/64765225/Melti...</td>\n",
       "      <td>Refik Anadol</td>\n",
       "      <td>https://www.behance.net/refikanadol?tracking_s...</td>\n",
       "      <td>4500</td>\n",
       "      <td>54500</td>\n",
       "    </tr>\n",
       "    <tr>\n",
       "      <th>40</th>\n",
       "      <td>Chaos Sketch</td>\n",
       "      <td>https://www.behance.net/gallery/6640757/Chaos-...</td>\n",
       "      <td>MIQO /</td>\n",
       "      <td>https://www.behance.net/miqueltura?tracking_so...</td>\n",
       "      <td>4400</td>\n",
       "      <td>42700</td>\n",
       "    </tr>\n",
       "  </tbody>\n",
       "</table>\n",
       "</div>\n",
       "      <button class=\"colab-df-convert\" onclick=\"convertToInteractive('df-4b1addf5-87ac-4fb4-a43b-b676c29f8674')\"\n",
       "              title=\"Convert this dataframe to an interactive table.\"\n",
       "              style=\"display:none;\">\n",
       "        \n",
       "  <svg xmlns=\"http://www.w3.org/2000/svg\" height=\"24px\"viewBox=\"0 0 24 24\"\n",
       "       width=\"24px\">\n",
       "    <path d=\"M0 0h24v24H0V0z\" fill=\"none\"/>\n",
       "    <path d=\"M18.56 5.44l.94 2.06.94-2.06 2.06-.94-2.06-.94-.94-2.06-.94 2.06-2.06.94zm-11 1L8.5 8.5l.94-2.06 2.06-.94-2.06-.94L8.5 2.5l-.94 2.06-2.06.94zm10 10l.94 2.06.94-2.06 2.06-.94-2.06-.94-.94-2.06-.94 2.06-2.06.94z\"/><path d=\"M17.41 7.96l-1.37-1.37c-.4-.4-.92-.59-1.43-.59-.52 0-1.04.2-1.43.59L10.3 9.45l-7.72 7.72c-.78.78-.78 2.05 0 2.83L4 21.41c.39.39.9.59 1.41.59.51 0 1.02-.2 1.41-.59l7.78-7.78 2.81-2.81c.8-.78.8-2.07 0-2.86zM5.41 20L4 18.59l7.72-7.72 1.47 1.35L5.41 20z\"/>\n",
       "  </svg>\n",
       "      </button>\n",
       "      \n",
       "  <style>\n",
       "    .colab-df-container {\n",
       "      display:flex;\n",
       "      flex-wrap:wrap;\n",
       "      gap: 12px;\n",
       "    }\n",
       "\n",
       "    .colab-df-convert {\n",
       "      background-color: #E8F0FE;\n",
       "      border: none;\n",
       "      border-radius: 50%;\n",
       "      cursor: pointer;\n",
       "      display: none;\n",
       "      fill: #1967D2;\n",
       "      height: 32px;\n",
       "      padding: 0 0 0 0;\n",
       "      width: 32px;\n",
       "    }\n",
       "\n",
       "    .colab-df-convert:hover {\n",
       "      background-color: #E2EBFA;\n",
       "      box-shadow: 0px 1px 2px rgba(60, 64, 67, 0.3), 0px 1px 3px 1px rgba(60, 64, 67, 0.15);\n",
       "      fill: #174EA6;\n",
       "    }\n",
       "\n",
       "    [theme=dark] .colab-df-convert {\n",
       "      background-color: #3B4455;\n",
       "      fill: #D2E3FC;\n",
       "    }\n",
       "\n",
       "    [theme=dark] .colab-df-convert:hover {\n",
       "      background-color: #434B5C;\n",
       "      box-shadow: 0px 1px 3px 1px rgba(0, 0, 0, 0.15);\n",
       "      filter: drop-shadow(0px 1px 2px rgba(0, 0, 0, 0.3));\n",
       "      fill: #FFFFFF;\n",
       "    }\n",
       "  </style>\n",
       "\n",
       "      <script>\n",
       "        const buttonEl =\n",
       "          document.querySelector('#df-4b1addf5-87ac-4fb4-a43b-b676c29f8674 button.colab-df-convert');\n",
       "        buttonEl.style.display =\n",
       "          google.colab.kernel.accessAllowed ? 'block' : 'none';\n",
       "\n",
       "        async function convertToInteractive(key) {\n",
       "          const element = document.querySelector('#df-4b1addf5-87ac-4fb4-a43b-b676c29f8674');\n",
       "          const dataTable =\n",
       "            await google.colab.kernel.invokeFunction('convertToInteractive',\n",
       "                                                     [key], {});\n",
       "          if (!dataTable) return;\n",
       "\n",
       "          const docLinkHtml = 'Like what you see? Visit the ' +\n",
       "            '<a target=\"_blank\" href=https://colab.research.google.com/notebooks/data_table.ipynb>data table notebook</a>'\n",
       "            + ' to learn more about interactive tables.';\n",
       "          element.innerHTML = '';\n",
       "          dataTable['output_type'] = 'display_data';\n",
       "          await google.colab.output.renderOutput(dataTable, element);\n",
       "          const docLink = document.createElement('div');\n",
       "          docLink.innerHTML = docLinkHtml;\n",
       "          element.appendChild(docLink);\n",
       "        }\n",
       "      </script>\n",
       "    </div>\n",
       "  </div>\n",
       "  "
      ],
      "text/plain": [
       "                                        Project Title  \\\n",
       "1                                          Tōkyō desu   \n",
       "2                                             Gallery   \n",
       "3                            The Hungarian Guggenheim   \n",
       "4                                             Mirages   \n",
       "5                            Material Studies: Metals   \n",
       "6                                        City Layouts   \n",
       "7                                      architecture 1   \n",
       "8                           Towers of The Netherlands   \n",
       "9                                             Montero   \n",
       "10                                               HOME   \n",
       "11                                   Horizon Branding   \n",
       "12                          Wanderlust Alphabet – A-E   \n",
       "13                                The Japanese Garden   \n",
       "14                               NEW YORK, BY THE WAY   \n",
       "15                                 Frosted Glass ICON   \n",
       "16                                         Isometrics   \n",
       "17                              I Like Architecture 2   \n",
       "18                                I like architecture   \n",
       "19                                 Haruki's apartment   \n",
       "20                                     Dreamscapes II   \n",
       "21                                     Northern Wisps   \n",
       "22                        Was ist Metaphysik? [pt.II]   \n",
       "23                                          Skymetric   \n",
       "24                                Duga Brand Identity   \n",
       "25                                Red sun, black sand   \n",
       "26                                       ARC Research   \n",
       "27                         Various illustrations 2019   \n",
       "28                  Agora - Brand design & wayfinding   \n",
       "29                             The Dublin Blue Period   \n",
       "30                                              Lines   \n",
       "31                                              Rubik   \n",
       "32                                  OON™ Architecture   \n",
       "33                                               UTEC   \n",
       "34                           NUMERICAL - ARCHITECTURE   \n",
       "35  PRE-MOLD™. Construction Company. Modular Brand...   \n",
       "36                                      Blend Station   \n",
       "37                         Architectural Explorations   \n",
       "38                                     Somewhere else   \n",
       "39                                   Melting Memories   \n",
       "40                                       Chaos Sketch   \n",
       "\n",
       "                                         Project Link  \\\n",
       "1   https://www.behance.net/gallery/31547413/Tokyo...   \n",
       "2   https://www.behance.net/gallery/5152437/Galler...   \n",
       "3   https://www.behance.net/gallery/17449717/The-H...   \n",
       "4   https://www.behance.net/gallery/65996821/Mirag...   \n",
       "5   https://www.behance.net/gallery/35636521/Mater...   \n",
       "6   https://www.behance.net/gallery/24276859/City-...   \n",
       "7   https://www.behance.net/gallery/9493557/archit...   \n",
       "8   https://www.behance.net/gallery/30333405/Tower...   \n",
       "9   https://www.behance.net/gallery/5390705/Monter...   \n",
       "10  https://www.behance.net/gallery/63498577/HOME?...   \n",
       "11  https://www.behance.net/gallery/98569025/Horiz...   \n",
       "12  https://www.behance.net/gallery/41712999/Wande...   \n",
       "13  https://www.behance.net/gallery/102848479/The-...   \n",
       "14  https://www.behance.net/gallery/66333135/NEW-Y...   \n",
       "15  https://www.behance.net/gallery/109951579/Fros...   \n",
       "16  https://www.behance.net/gallery/2581967/Isomet...   \n",
       "17  https://www.behance.net/gallery/21002005/I-Lik...   \n",
       "18  https://www.behance.net/gallery/17299081/I-lik...   \n",
       "19  https://www.behance.net/gallery/23313755/Haruk...   \n",
       "20  https://www.behance.net/gallery/103790457/Drea...   \n",
       "21  https://www.behance.net/gallery/64980791/North...   \n",
       "22  https://www.behance.net/gallery/24938879/Was-i...   \n",
       "23  https://www.behance.net/gallery/14717593/Skyme...   \n",
       "24  https://www.behance.net/gallery/80568835/Duga-...   \n",
       "25  https://www.behance.net/gallery/11068425/Red-s...   \n",
       "26  https://www.behance.net/gallery/96910907/ARC-R...   \n",
       "27  https://www.behance.net/gallery/79819315/Vario...   \n",
       "28  https://www.behance.net/gallery/69844481/Agora...   \n",
       "29  https://www.behance.net/gallery/55143195/The-D...   \n",
       "30  https://www.behance.net/gallery/23267599/Lines...   \n",
       "31  https://www.behance.net/gallery/52288859/Rubik...   \n",
       "32  https://www.behance.net/gallery/41876687/OON-A...   \n",
       "33  https://www.behance.net/gallery/45675899/UTEC?...   \n",
       "34  https://www.behance.net/gallery/65808439/NUMER...   \n",
       "35  https://www.behance.net/gallery/83610047/PRE-M...   \n",
       "36  https://www.behance.net/gallery/49266167/Blend...   \n",
       "37  https://www.behance.net/gallery/80894611/Archi...   \n",
       "38  https://www.behance.net/gallery/16690157/Somew...   \n",
       "39  https://www.behance.net/gallery/64765225/Melti...   \n",
       "40  https://www.behance.net/gallery/6640757/Chaos-...   \n",
       "\n",
       "               Creator Name  \\\n",
       "1          Nina Geometrieva   \n",
       "2   Gediminas Pranckevicius   \n",
       "3           Multiple Owners   \n",
       "4          Romain Trystram®   \n",
       "5         Jarrod Hasenjager   \n",
       "6               Luis Dilger   \n",
       "7                Sunga Park   \n",
       "8                 Coen Pohl   \n",
       "9           Anagrama Studio   \n",
       "10           Muhammed Sajid   \n",
       "11          Multiple Owners   \n",
       "12                Jack Daly   \n",
       "13          Multiple Owners   \n",
       "14             Ludwig Favre   \n",
       "15               Changyu Hu   \n",
       "16      Timothy J. Reynolds   \n",
       "17         Romain Trystram®   \n",
       "18         Romain Trystram®   \n",
       "19          Multiple Owners   \n",
       "20              Peter Tarka   \n",
       "21         Bartosz Domiczek   \n",
       "22             d- Arkroom ◆   \n",
       "23               Lino Russo   \n",
       "24          Multiple Owners   \n",
       "25             Maxim Goudin   \n",
       "26             Xtian Miller   \n",
       "27         Romain Trystram®   \n",
       "28                Graphéine   \n",
       "29                 Al Power   \n",
       "30          Sebastian Weiss   \n",
       "31          Multiple Owners   \n",
       "32                   h3l AG   \n",
       "33          Multiple Owners   \n",
       "34           Muhammed Sajid   \n",
       "35                   h3l AG   \n",
       "36                 Futura .   \n",
       "37              Peter Tarka   \n",
       "38         Romain Trystram®   \n",
       "39             Refik Anadol   \n",
       "40                   MIQO /   \n",
       "\n",
       "                                         Creator Link  Likes   Views  \n",
       "1   https://www.behance.net/geometrieva?tracking_s...  12500  125100  \n",
       "2   https://www.behance.net/gedomenas?tracking_sou...  11400   82400  \n",
       "3                                     Multiple Owners  11000   96800  \n",
       "4   https://www.behance.net/romaintrystram?trackin...  10400   92700  \n",
       "5   https://www.behance.net/hasenjager?tracking_so...  10000  120500  \n",
       "6   https://www.behance.net/luisdilger?tracking_so...   9600  124600  \n",
       "7   https://www.behance.net/parksunga?tracking_sou...   8900   76600  \n",
       "8   https://www.behance.net/coenpohl?tracking_sour...   7000   67800  \n",
       "9   https://www.behance.net/Anagrama?tracking_sour...   8700  124800  \n",
       "10  https://www.behance.net/muhammedsajid?tracking...   6400   37700  \n",
       "11                                    Multiple Owners   5900   48700  \n",
       "12  https://www.behance.net/jackdaly?tracking_sour...   6500   51600  \n",
       "13                                    Multiple Owners   6300   52800  \n",
       "14  https://www.behance.net/LUDWIGFAVRE?tracking_s...   6700   67000  \n",
       "15  https://www.behance.net/huchangyu651e9?trackin...   5900   47400  \n",
       "16  https://www.behance.net/turnislefthome?trackin...   7900  158100  \n",
       "17  https://www.behance.net/romaintrystram?trackin...   6700   78600  \n",
       "18  https://www.behance.net/romaintrystram?trackin...   7000   80000  \n",
       "19                                    Multiple Owners   6100   90200  \n",
       "20  https://www.behance.net/trk?tracking_source=se...   5700   55500  \n",
       "21  https://www.behance.net/bartoszdomiczek?tracki...   6000   53200  \n",
       "22  https://www.behance.net/d-Arkroom?tracking_sou...   5900   52800  \n",
       "23  https://www.behance.net/linorusso?tracking_sou...   5900   64099  \n",
       "24                                    Multiple Owners   5100   51600  \n",
       "25  https://www.behance.net/melkhiah?tracking_sour...  20900   92500  \n",
       "26  https://www.behance.net/xtianmiller?tracking_s...   5100   51500  \n",
       "27  https://www.behance.net/romaintrystram?trackin...   5300   61600  \n",
       "28  https://www.behance.net/grapheine?tracking_sou...   5300   92300  \n",
       "29  https://www.behance.net/AlPower?tracking_sourc...   5700   53900  \n",
       "30  https://www.behance.net/leblanc?tracking_sourc...   5000   62500  \n",
       "31                                    Multiple Owners   4700   44100  \n",
       "32  https://www.behance.net/h3l?tracking_source=se...   4600   64099  \n",
       "33                                    Multiple Owners   4800   64500  \n",
       "34  https://www.behance.net/muhammedsajid?tracking...   4400   28200  \n",
       "35  https://www.behance.net/h3l?tracking_source=se...   4600   57100  \n",
       "36  https://www.behance.net/MFutura?tracking_sourc...   4900   77200  \n",
       "37  https://www.behance.net/trk?tracking_source=se...   4800   55400  \n",
       "38  https://www.behance.net/romaintrystram?trackin...   4200   35900  \n",
       "39  https://www.behance.net/refikanadol?tracking_s...   4500   54500  \n",
       "40  https://www.behance.net/miqueltura?tracking_so...   4400   42700  "
      ]
     },
     "execution_count": 27,
     "metadata": {},
     "output_type": "execute_result"
    }
   ],
   "source": [
    "field1_df"
   ]
  },
  {
   "cell_type": "markdown",
   "metadata": {
    "id": "qAsNL8Ft4Qjo"
   },
   "source": [
    "### **7.Parsing the Data from Each Field and saving all the data into a .csv file**"
   ]
  },
  {
   "cell_type": "code",
   "execution_count": null,
   "metadata": {
    "id": "8pAgtqTWyCnw"
   },
   "outputs": [],
   "source": [
    "import time\n",
    "from time import sleep"
   ]
  },
  {
   "cell_type": "code",
   "execution_count": null,
   "metadata": {
    "id": "J9L0qtSoxEBK"
   },
   "outputs": [],
   "source": [
    "def get_all_fields(field_links):\n",
    "  dict1 = {\"Project Title\": [],\n",
    "           \"Project Link\": [],\n",
    "           \"Creator Name\": [],\n",
    "           \"Creator Link\": [],\n",
    "           \"Likes\": [],\n",
    "           \"Views\": []}\n",
    "\n",
    "  for i in field_links:\n",
    "     wd.get(i)\n",
    "     time.sleep(5)\n",
    "     project_tags = WebDriverWait(wd, 10).until(EC.presence_of_all_elements_located((By.XPATH, '//*[@class=\"ContentGrid-gridItem-VXS e2e-ContentGrid-item\"]')))\n",
    "     dict1[\"Project Title\"].extend(get_project_title(project_tags))\n",
    "     dict1[\"Project Link\"].extend(get_project_link(project_tags))\n",
    "     dict1[\"Creator Name\"].extend(get_creator_name(project_tags))\n",
    "     dict1[\"Creator Link\"].extend(get_creator_link(project_tags))\n",
    "     dict1[\"Likes\"].extend(get_likes(project_tags))\n",
    "     dict1[\"Views\"].extend(get_views(project_tags))\n",
    "\n",
    "  return dict1\n",
    "  "
   ]
  },
  {
   "cell_type": "code",
   "execution_count": null,
   "metadata": {
    "id": "vq835aZ4zKYW"
   },
   "outputs": [],
   "source": [
    "get_all_fields(field_links) "
   ]
  },
  {
   "cell_type": "code",
   "execution_count": null,
   "metadata": {
    "id": "aVtGYToRzJyH"
   },
   "outputs": [],
   "source": [
    "df = pd.DataFrame.from_dict(get_all_fields(field_links), orient='index') # orient ='index' fills all the missing values with `NaN`\n",
    "df = df.transpose()\n",
    "df.index += 1"
   ]
  },
  {
   "cell_type": "code",
   "execution_count": null,
   "metadata": {
    "colab": {
     "base_uri": "https://localhost:8080/",
     "height": 1075
    },
    "executionInfo": {
     "elapsed": 491,
     "status": "ok",
     "timestamp": 1655406799981,
     "user": {
      "displayName": "Pravallika Molleti",
      "userId": "03165852627722214263"
     },
     "user_tz": -330
    },
    "id": "EGTXuuyz2EGS",
    "outputId": "c3e8e792-a736-4b1e-b034-7024b0e0da1c"
   },
   "outputs": [
    {
     "data": {
      "text/html": [
       "\n",
       "  <div id=\"df-030433ee-f878-4841-80f8-b94c070c7a99\">\n",
       "    <div class=\"colab-df-container\">\n",
       "      <div>\n",
       "<style scoped>\n",
       "    .dataframe tbody tr th:only-of-type {\n",
       "        vertical-align: middle;\n",
       "    }\n",
       "\n",
       "    .dataframe tbody tr th {\n",
       "        vertical-align: top;\n",
       "    }\n",
       "\n",
       "    .dataframe thead th {\n",
       "        text-align: right;\n",
       "    }\n",
       "</style>\n",
       "<table border=\"1\" class=\"dataframe\">\n",
       "  <thead>\n",
       "    <tr style=\"text-align: right;\">\n",
       "      <th></th>\n",
       "      <th>Project Title</th>\n",
       "      <th>Project Link</th>\n",
       "      <th>Creator Name</th>\n",
       "      <th>Creator Link</th>\n",
       "      <th>Likes</th>\n",
       "      <th>Views</th>\n",
       "    </tr>\n",
       "  </thead>\n",
       "  <tbody>\n",
       "    <tr>\n",
       "      <th>1</th>\n",
       "      <td>Tōkyō desu</td>\n",
       "      <td>https://www.behance.net/gallery/31547413/Tokyo...</td>\n",
       "      <td>Nina Geometrieva</td>\n",
       "      <td>https://www.behance.net/geometrieva?tracking_s...</td>\n",
       "      <td>12500</td>\n",
       "      <td>125100</td>\n",
       "    </tr>\n",
       "    <tr>\n",
       "      <th>2</th>\n",
       "      <td>Gallery</td>\n",
       "      <td>https://www.behance.net/gallery/5152437/Galler...</td>\n",
       "      <td>Gediminas Pranckevicius</td>\n",
       "      <td>https://www.behance.net/gedomenas?tracking_sou...</td>\n",
       "      <td>11400</td>\n",
       "      <td>82400</td>\n",
       "    </tr>\n",
       "    <tr>\n",
       "      <th>3</th>\n",
       "      <td>The Hungarian Guggenheim</td>\n",
       "      <td>https://www.behance.net/gallery/17449717/The-H...</td>\n",
       "      <td>Multiple Owners</td>\n",
       "      <td>Multiple Owners</td>\n",
       "      <td>11000</td>\n",
       "      <td>96800</td>\n",
       "    </tr>\n",
       "    <tr>\n",
       "      <th>4</th>\n",
       "      <td>Mirages</td>\n",
       "      <td>https://www.behance.net/gallery/65996821/Mirag...</td>\n",
       "      <td>Romain Trystram®</td>\n",
       "      <td>https://www.behance.net/romaintrystram?trackin...</td>\n",
       "      <td>10400</td>\n",
       "      <td>92700</td>\n",
       "    </tr>\n",
       "    <tr>\n",
       "      <th>5</th>\n",
       "      <td>Material Studies: Metals</td>\n",
       "      <td>https://www.behance.net/gallery/35636521/Mater...</td>\n",
       "      <td>Jarrod Hasenjager</td>\n",
       "      <td>https://www.behance.net/hasenjager?tracking_so...</td>\n",
       "      <td>10000</td>\n",
       "      <td>120500</td>\n",
       "    </tr>\n",
       "    <tr>\n",
       "      <th>...</th>\n",
       "      <td>...</td>\n",
       "      <td>...</td>\n",
       "      <td>...</td>\n",
       "      <td>...</td>\n",
       "      <td>...</td>\n",
       "      <td>...</td>\n",
       "    </tr>\n",
       "    <tr>\n",
       "      <th>476</th>\n",
       "      <td>Tofu Design - Website &amp; Identity</td>\n",
       "      <td>https://www.behance.net/gallery/68257851/Tofu-...</td>\n",
       "      <td>Multiple Owners</td>\n",
       "      <td>Multiple Owners</td>\n",
       "      <td>11400</td>\n",
       "      <td>None</td>\n",
       "    </tr>\n",
       "    <tr>\n",
       "      <th>477</th>\n",
       "      <td>Redesigning the Website of IKEA</td>\n",
       "      <td>https://www.behance.net/gallery/28015103/Redes...</td>\n",
       "      <td>Ekrem Ates</td>\n",
       "      <td>https://www.behance.net/ekremates?tracking_sou...</td>\n",
       "      <td>12200</td>\n",
       "      <td>None</td>\n",
       "    </tr>\n",
       "    <tr>\n",
       "      <th>478</th>\n",
       "      <td>Inty++</td>\n",
       "      <td>https://www.behance.net/gallery/26592367/Inty?...</td>\n",
       "      <td>Multiple Owners</td>\n",
       "      <td>Multiple Owners</td>\n",
       "      <td>11600</td>\n",
       "      <td>None</td>\n",
       "    </tr>\n",
       "    <tr>\n",
       "      <th>479</th>\n",
       "      <td>Health Fitness Mobile App UI UX Kit</td>\n",
       "      <td>https://www.behance.net/gallery/78953297/Healt...</td>\n",
       "      <td>Grace Saraswati</td>\n",
       "      <td>https://www.behance.net/gracesaraswati?trackin...</td>\n",
       "      <td>11600</td>\n",
       "      <td>None</td>\n",
       "    </tr>\n",
       "    <tr>\n",
       "      <th>480</th>\n",
       "      <td>Best App Icons by Ramotion</td>\n",
       "      <td>https://www.behance.net/gallery/20382043/Best-...</td>\n",
       "      <td>Ramotion ✪</td>\n",
       "      <td>https://www.behance.net/Ramotion?tracking_sour...</td>\n",
       "      <td>19500</td>\n",
       "      <td>None</td>\n",
       "    </tr>\n",
       "  </tbody>\n",
       "</table>\n",
       "<p>480 rows × 6 columns</p>\n",
       "</div>\n",
       "      <button class=\"colab-df-convert\" onclick=\"convertToInteractive('df-030433ee-f878-4841-80f8-b94c070c7a99')\"\n",
       "              title=\"Convert this dataframe to an interactive table.\"\n",
       "              style=\"display:none;\">\n",
       "        \n",
       "  <svg xmlns=\"http://www.w3.org/2000/svg\" height=\"24px\"viewBox=\"0 0 24 24\"\n",
       "       width=\"24px\">\n",
       "    <path d=\"M0 0h24v24H0V0z\" fill=\"none\"/>\n",
       "    <path d=\"M18.56 5.44l.94 2.06.94-2.06 2.06-.94-2.06-.94-.94-2.06-.94 2.06-2.06.94zm-11 1L8.5 8.5l.94-2.06 2.06-.94-2.06-.94L8.5 2.5l-.94 2.06-2.06.94zm10 10l.94 2.06.94-2.06 2.06-.94-2.06-.94-.94-2.06-.94 2.06-2.06.94z\"/><path d=\"M17.41 7.96l-1.37-1.37c-.4-.4-.92-.59-1.43-.59-.52 0-1.04.2-1.43.59L10.3 9.45l-7.72 7.72c-.78.78-.78 2.05 0 2.83L4 21.41c.39.39.9.59 1.41.59.51 0 1.02-.2 1.41-.59l7.78-7.78 2.81-2.81c.8-.78.8-2.07 0-2.86zM5.41 20L4 18.59l7.72-7.72 1.47 1.35L5.41 20z\"/>\n",
       "  </svg>\n",
       "      </button>\n",
       "      \n",
       "  <style>\n",
       "    .colab-df-container {\n",
       "      display:flex;\n",
       "      flex-wrap:wrap;\n",
       "      gap: 12px;\n",
       "    }\n",
       "\n",
       "    .colab-df-convert {\n",
       "      background-color: #E8F0FE;\n",
       "      border: none;\n",
       "      border-radius: 50%;\n",
       "      cursor: pointer;\n",
       "      display: none;\n",
       "      fill: #1967D2;\n",
       "      height: 32px;\n",
       "      padding: 0 0 0 0;\n",
       "      width: 32px;\n",
       "    }\n",
       "\n",
       "    .colab-df-convert:hover {\n",
       "      background-color: #E2EBFA;\n",
       "      box-shadow: 0px 1px 2px rgba(60, 64, 67, 0.3), 0px 1px 3px 1px rgba(60, 64, 67, 0.15);\n",
       "      fill: #174EA6;\n",
       "    }\n",
       "\n",
       "    [theme=dark] .colab-df-convert {\n",
       "      background-color: #3B4455;\n",
       "      fill: #D2E3FC;\n",
       "    }\n",
       "\n",
       "    [theme=dark] .colab-df-convert:hover {\n",
       "      background-color: #434B5C;\n",
       "      box-shadow: 0px 1px 3px 1px rgba(0, 0, 0, 0.15);\n",
       "      filter: drop-shadow(0px 1px 2px rgba(0, 0, 0, 0.3));\n",
       "      fill: #FFFFFF;\n",
       "    }\n",
       "  </style>\n",
       "\n",
       "      <script>\n",
       "        const buttonEl =\n",
       "          document.querySelector('#df-030433ee-f878-4841-80f8-b94c070c7a99 button.colab-df-convert');\n",
       "        buttonEl.style.display =\n",
       "          google.colab.kernel.accessAllowed ? 'block' : 'none';\n",
       "\n",
       "        async function convertToInteractive(key) {\n",
       "          const element = document.querySelector('#df-030433ee-f878-4841-80f8-b94c070c7a99');\n",
       "          const dataTable =\n",
       "            await google.colab.kernel.invokeFunction('convertToInteractive',\n",
       "                                                     [key], {});\n",
       "          if (!dataTable) return;\n",
       "\n",
       "          const docLinkHtml = 'Like what you see? Visit the ' +\n",
       "            '<a target=\"_blank\" href=https://colab.research.google.com/notebooks/data_table.ipynb>data table notebook</a>'\n",
       "            + ' to learn more about interactive tables.';\n",
       "          element.innerHTML = '';\n",
       "          dataTable['output_type'] = 'display_data';\n",
       "          await google.colab.output.renderOutput(dataTable, element);\n",
       "          const docLink = document.createElement('div');\n",
       "          docLink.innerHTML = docLinkHtml;\n",
       "          element.appendChild(docLink);\n",
       "        }\n",
       "      </script>\n",
       "    </div>\n",
       "  </div>\n",
       "  "
      ],
      "text/plain": [
       "                           Project Title  \\\n",
       "1                             Tōkyō desu   \n",
       "2                                Gallery   \n",
       "3               The Hungarian Guggenheim   \n",
       "4                                Mirages   \n",
       "5               Material Studies: Metals   \n",
       "..                                   ...   \n",
       "476     Tofu Design - Website & Identity   \n",
       "477      Redesigning the Website of IKEA   \n",
       "478                               Inty++   \n",
       "479  Health Fitness Mobile App UI UX Kit   \n",
       "480           Best App Icons by Ramotion   \n",
       "\n",
       "                                          Project Link  \\\n",
       "1    https://www.behance.net/gallery/31547413/Tokyo...   \n",
       "2    https://www.behance.net/gallery/5152437/Galler...   \n",
       "3    https://www.behance.net/gallery/17449717/The-H...   \n",
       "4    https://www.behance.net/gallery/65996821/Mirag...   \n",
       "5    https://www.behance.net/gallery/35636521/Mater...   \n",
       "..                                                 ...   \n",
       "476  https://www.behance.net/gallery/68257851/Tofu-...   \n",
       "477  https://www.behance.net/gallery/28015103/Redes...   \n",
       "478  https://www.behance.net/gallery/26592367/Inty?...   \n",
       "479  https://www.behance.net/gallery/78953297/Healt...   \n",
       "480  https://www.behance.net/gallery/20382043/Best-...   \n",
       "\n",
       "                Creator Name  \\\n",
       "1           Nina Geometrieva   \n",
       "2    Gediminas Pranckevicius   \n",
       "3            Multiple Owners   \n",
       "4           Romain Trystram®   \n",
       "5          Jarrod Hasenjager   \n",
       "..                       ...   \n",
       "476          Multiple Owners   \n",
       "477               Ekrem Ates   \n",
       "478          Multiple Owners   \n",
       "479          Grace Saraswati   \n",
       "480               Ramotion ✪   \n",
       "\n",
       "                                          Creator Link  Likes   Views  \n",
       "1    https://www.behance.net/geometrieva?tracking_s...  12500  125100  \n",
       "2    https://www.behance.net/gedomenas?tracking_sou...  11400   82400  \n",
       "3                                      Multiple Owners  11000   96800  \n",
       "4    https://www.behance.net/romaintrystram?trackin...  10400   92700  \n",
       "5    https://www.behance.net/hasenjager?tracking_so...  10000  120500  \n",
       "..                                                 ...    ...     ...  \n",
       "476                                    Multiple Owners  11400    None  \n",
       "477  https://www.behance.net/ekremates?tracking_sou...  12200    None  \n",
       "478                                    Multiple Owners  11600    None  \n",
       "479  https://www.behance.net/gracesaraswati?trackin...  11600    None  \n",
       "480  https://www.behance.net/Ramotion?tracking_sour...  19500    None  \n",
       "\n",
       "[480 rows x 6 columns]"
      ]
     },
     "execution_count": 43,
     "metadata": {},
     "output_type": "execute_result"
    }
   ],
   "source": [
    "df"
   ]
  },
  {
   "cell_type": "code",
   "execution_count": null,
   "metadata": {
    "id": "qw_acv7AzRHW"
   },
   "outputs": [],
   "source": [
    "df.to_csv('/content/FinalScrape480.csv',index=False)"
   ]
  },
  {
   "cell_type": "markdown",
   "metadata": {
    "id": "vDW_EkeIdQqB"
   },
   "source": [
    "# **Summary**\n",
    "\n",
    "- The Scraping was done using Python libraries such as Requests, Selenium for extracting the data\n",
    "- Scraping Top 40 project details from 12 different fields on Behance website like Project Title, Project Link, Creator Name, Creator Link, Likes and Views.\n",
    "- Parsed all the scraped data into a csv file containing 40 rows and 6 columns for each creative field and a total of 480 rows and 6 columns."
   ]
  },
  {
   "cell_type": "markdown",
   "metadata": {
    "id": "-dQ8Rw1idUyA"
   },
   "source": [
    "# **Future work**\n",
    "\n",
    "- Extracting more details of the project and creator by accessing the `project links` and `creator links`\n",
    "- Code optimization\n",
    "- Improving the documentation part of the project\n",
    "- Adding a time and date stamp at the point when website's page is requested and adding it to the output, as the web page is dynamic and frequently changes data and adding new projects."
   ]
  },
  {
   "cell_type": "markdown",
   "metadata": {
    "id": "YbLoMEFMukFN"
   },
   "source": [
    "*Note :The public Behance API is no longer accepting new clients.\n",
    "If you are a current API user, you will still be able to edit and access the content returned by the API*"
   ]
  },
  {
   "cell_type": "markdown",
   "metadata": {
    "id": "JCOpJb-_dYdw"
   },
   "source": [
    "# **References**\n",
    "\n",
    "https://www.behance.net/\n",
    "\n",
    "https://www.behance.net/mattchinworth\n",
    "\n",
    "https://en.wikipedia.org/wiki/Behance\n",
    "\n",
    "https://stock.adobe.com/\n",
    "\n"
   ]
  },
  {
   "cell_type": "code",
   "execution_count": 7,
   "metadata": {
    "colab": {
     "base_uri": "https://localhost:8080/",
     "height": 88
    },
    "executionInfo": {
     "elapsed": 2692,
     "status": "ok",
     "timestamp": 1655489183285,
     "user": {
      "displayName": "Pravallika Molleti",
      "userId": "03165852627722214263"
     },
     "user_tz": -330
    },
    "id": "lzTqkC0RvZI5",
    "outputId": "ba6b7caa-3cca-46aa-a2ed-413018a9dc71"
   },
   "outputs": [
    {
     "name": "stdout",
     "output_type": "stream",
     "text": [
      "[jovian] Detected Colab notebook...\u001b[0m\n",
      "[jovian] Uploading colab notebook to Jovian...\u001b[0m\n",
      "Committed successfully! https://jovian.ai/pravz149/web-scraping-top-projects-behance\n"
     ]
    },
    {
     "data": {
      "application/vnd.google.colaboratory.intrinsic+json": {
       "type": "string"
      },
      "text/plain": [
       "'https://jovian.ai/pravz149/web-scraping-top-projects-behance'"
      ]
     },
     "execution_count": 7,
     "metadata": {},
     "output_type": "execute_result"
    }
   ],
   "source": [
    "jovian.commit(project=\"web-scraping-Top-Projects-Behance\")"
   ]
  }
 ],
 "metadata": {
  "colab": {
   "collapsed_sections": [],
   "name": "web-scraping-Top-Projects-Behance .ipynb",
   "provenance": []
  },
  "language_info": {
   "codemirror_mode": {
    "name": "ipython",
    "version": 3
   },
   "file_extension": ".py",
   "mimetype": "text/x-python",
   "name": "python",
   "nbconvert_exporter": "python",
   "pygments_lexer": "ipython3",
   "version": "3.9.7"
  }
 },
 "nbformat": 4,
 "nbformat_minor": 1
}